{
 "cells": [
  {
   "cell_type": "markdown",
   "source": [
    "# Term Search in Documents\n",
    "\n",
    "## Objective\n",
    "The goal of this exercise is to develop a simple information retrieval system that allows the user to search for a specific term across a set of text documents. This will introduce you to the basics of text processing and searching algorithms in the context of information retrieval.\n",
    "\n",
    "## Problem Description\n",
    "You are provided with a set of text documents. Your task is to implement a search function that:\n",
    "- Takes a user-inputted term as the query.\n",
    "- Searches for this term across all the provided documents.\n",
    "- Returns a list of documents where the term appears.\n",
    "\n",
    "## Requirements\n",
    "\n",
    "### Step 1: Preparing the Data\n",
    "- **Load the Documents**: You will start by loading the text documents into your program. These documents can be in plain text format stored in a directory.\n",
    "- **Read Each Document**: Implement a function to read each document and store its contents in a data structure of your choice (e.g., a list).\n",
    "\n",
    "### Step 2: Implementing the Search\n",
    "- **Input Query**: Implement a function to accept a query term from the user.\n",
    "- **Search Function**: Create a function that:\n",
    "  - Iterates through each document.\n",
    "  - Checks if the query term appears in the document.\n",
    "  - You may choose to implement case-insensitive search to improve user experience.\n",
    "- **Return Results**: The function should return the names or identifiers of the documents where the term is found.\n",
    "\n",
    "### Step 3: Displaying Results\n",
    "- **Output the Results**: For each search query, output the results in a user-friendly format, listing the documents where the term was found, or a message indicating that the term does not appear in any document.\n",
    "\n",
    "## Evaluation Criteria\n",
    "- **Correctness**: The search function should accurately identify documents containing the term.\n",
    "- **Efficiency**: While efficiency may not be critical for small datasets, consider the efficiency of your search algorithm.\n",
    "- **Usability**: The interface for inputting search terms and viewing results should be clear and easy to use.\n",
    "\n",
    "## Additional Challenges (Optional)\n",
    "- **Enhance the search functionality**: Allow for more complex queries, such as phrases or multiple terms.\n",
    "- **Improve the search with regular expressions**: Use regex for pattern matching to enhance the flexibility of the search.\n",
    "- **Implement a simple ranking system**: Rank the documents based on the frequency of the term within each document.\n",
    "\n",
    "This exercise will help you understand the fundamental mechanisms behind storing and retrieving data in the field of information retrieval. By the end of this task, you will have a basic prototype that mimics core functions of larger, more complex search engines.\n"
   ],
   "metadata": {
    "collapsed": false
   },
   "id": "87a197ffb621d407"
  },
  {
   "cell_type": "code",
   "execution_count": 3,
   "id": "initial_id",
   "metadata": {
    "collapsed": true,
    "ExecuteTime": {
     "end_time": "2024-04-29T22:35:15.650248Z",
     "start_time": "2024-04-29T22:35:15.575067Z"
    }
   },
   "outputs": [
    {
     "name": "stdout",
     "output_type": "stream",
     "text": [
      "Document: datasource.txt\n",
      "Content: go to https://www.gutenberg.org/browse/scores/top#books-last1\n",
      "download all 100 books in txt\n",
      "populate /data folder...\n",
      "Document: pg1342.txt\n",
      "Content: ﻿the project gutenberg ebook of pride and prejudice\n",
      "    \n",
      "this ebook is for the use of anyone anywhere in the united states and\n",
      "most other parts of the world at no cost and with almost no restrictions\n",
      "...\n",
      "Document: pg1513.txt\n",
      "Content: ﻿the project gutenberg ebook of romeo and juliet\n",
      "    \n",
      "this ebook is for the use of anyone anywhere in the united states and\n",
      "most other parts of the world at no cost and with almost no restrictions\n",
      "wha...\n",
      "Document: pg2701.txt\n",
      "Content: ﻿the project gutenberg ebook of moby dick; or, the whale\n",
      "    \n",
      "this ebook is for the use of anyone anywhere in the united states and\n",
      "most other parts of the world at no cost and with almost no restrict...\n",
      "Document: pg47948.txt\n",
      "Content: ﻿the project gutenberg ebook of the archæology and prehistoric annals of scotland\n",
      "    \n",
      "this ebook is for the use of anyone anywhere in the united states and\n",
      "most other parts of the world at no cost an...\n",
      "Document: pg84.txt\n",
      "Content: ﻿the project gutenberg ebook of frankenstein; or, the modern prometheus\n",
      "    \n",
      "this ebook is for the use of anyone anywhere in the united states and\n",
      "most other parts of the world at no cost and with alm...\n"
     ]
    }
   ],
   "source": []
  }
 ],
 "metadata": {
  "kernelspec": {
   "display_name": "Python 3",
   "language": "python",
   "name": "python3"
  },
  "language_info": {
   "codemirror_mode": {
    "name": "ipython",
    "version": 2
   },
   "file_extension": ".py",
   "mimetype": "text/x-python",
   "name": "python",
   "nbconvert_exporter": "python",
   "pygments_lexer": "ipython2",
   "version": "2.7.6"
  }
 },
 "nbformat": 4,
 "nbformat_minor": 5
}
