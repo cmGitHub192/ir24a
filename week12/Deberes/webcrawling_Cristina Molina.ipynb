{
  "cells": [
    {
      "cell_type": "markdown",
      "metadata": {
        "id": "v_Cd3HmlP2Be"
      },
      "source": [
        "# Ejercicio de Web Scraping\n",
        "#### Nombre: Cristina Molina\n",
        "#### Objetivo:\n",
        "##### El objetivo de este ejercicio es construir un scraper web que recoja datos de un sitio web elegido. Aprenderás a enviar solicitudes HTTP, analizar el contenido HTML, extraer datos relevantes y almacenarlos en un formato estructurado."
      ]
    },
    {
      "cell_type": "markdown",
      "metadata": {
        "id": "89viiaSoQJZ-"
      },
      "source": [
        "##### Ejemplo:\n",
        "##### Para este ejercicio, extraeremos datos de recetas del sitio web seleccionado. Nuestro scraper recogerá información como el título de cada receta, los ingredientes listados, los pasos para la preparación y cualquier otro detalle importante proporcionado en el sitio."
      ]
    },
    {
      "cell_type": "markdown",
      "metadata": {
        "id": "LZj3xPHPPORp"
      },
      "source": [
        "##### Paso 1: Importar librerías\n"
      ]
    },
    {
      "cell_type": "code",
      "execution_count": 1,
      "metadata": {
        "id": "CDt_PT6mMUBu"
      },
      "outputs": [],
      "source": [
        "from bs4 import BeautifulSoup"
      ]
    },
    {
      "cell_type": "markdown",
      "metadata": {
        "id": "8kcay-pRPXa5"
      },
      "source": [
        "##### Paso 2: Leer el archivo HTML\n"
      ]
    },
    {
      "cell_type": "code",
      "execution_count": 2,
      "metadata": {
        "id": "Cs4niidmM95B"
      },
      "outputs": [],
      "source": [
        "# Leer el archivo HTML\n",
        "with open('./Ensalada.html', 'r', encoding='utf-8') as file:\n",
        "    content = file.read()"
      ]
    },
    {
      "cell_type": "markdown",
      "metadata": {
        "id": "2esIz9tvPcKz"
      },
      "source": [
        "##### Paso 3: Crear objeto BeautifulSoup"
      ]
    },
    {
      "cell_type": "code",
      "execution_count": 3,
      "metadata": {
        "id": "dN2hcY3FPbsy"
      },
      "outputs": [],
      "source": [
        "# Crear objeto BeautifulSoup\n",
        "soup = BeautifulSoup(content, 'html.parser')\n"
      ]
    },
    {
      "cell_type": "markdown",
      "metadata": {
        "id": "_bGahx8HPe1D"
      },
      "source": [
        "##### Paso 4: Definir funciones"
      ]
    },
    {
      "cell_type": "code",
      "execution_count": 4,
      "metadata": {
        "id": "mnTmpOn_PjGf"
      },
      "outputs": [],
      "source": [
        "def extract_text_from_nested_tags(tag):\n",
        "    \"\"\"Extrae y une el texto de una etiqueta y sus etiquetas anidadas.\"\"\"\n",
        "    return ' '.join(tag.stripped_strings)\n",
        "\n",
        "def get_recipe_information(soup):\n",
        "    # Extraer el título de la receta\n",
        "    title = soup.find('h1').text.strip() if soup.find('h1') else 'No title available'\n",
        "\n",
        "    # Extraer los ingredientes\n",
        "    ingredients = []\n",
        "    for li in soup.find_all('li', class_='recipe-detail__list-item'):\n",
        "        ingredients.append(extract_text_from_nested_tags(li))\n",
        "    ingredients = ', '.join(ingredients)\n",
        "\n",
        "    # Extraer el método de preparación\n",
        "    steps = []\n",
        "    method_section = soup.find('h2', string='Método')\n",
        "    if method_section:\n",
        "        method_steps = method_section.find_next('ol')\n",
        "        if method_steps:\n",
        "            for li in method_steps.find_all('li'):\n",
        "                steps.append(extract_text_from_nested_tags(li))\n",
        "    steps = ' '.join(steps)\n",
        "\n",
        "    return {\n",
        "        'Title': title,\n",
        "        'Ingredients': ingredients,\n",
        "        'Method': steps\n",
        "    }\n"
      ]
    },
    {
      "cell_type": "markdown",
      "metadata": {
        "id": "uZ2dJS_5Pjn0"
      },
      "source": [
        "##### Paso 5: Obtener y mostrar la información de la receta"
      ]
    },
    {
      "cell_type": "code",
      "execution_count": 5,
      "metadata": {
        "colab": {
          "base_uri": "https://localhost:8080/"
        },
        "id": "0AEUEeK9PjL0",
        "outputId": "80d5c0be-aac2-428d-ba4b-62001a8444f4"
      },
      "outputs": [
        {
          "name": "stdout",
          "output_type": "stream",
          "text": [
            "Title: Receta de ensalada vietnamita con pollo y fideos\n",
            "\n",
            "Ingredients: 125 g (4 oz) de fideos de arroz, ½ pepino, 150 g (5 oz) de restos de pollo cocido, desmenuzado, 1 zanahoria mediana cortada en tiras finas, 3 ramitas de menta, hojas picadas, más unas cuantas más para decorar, gran puñado de brotes de soja, 50 g (2 oz) de maní salado, picado grueso, para servir, ½ lima rallada y exprimida, 2 cucharadas de azúcar moreno suave, 2 cucharadas de vinagre de arroz, 2 cucharadas de salsa de pescado, 1 chile rojo largo, sin semillas, finamente picado (y cortado en rodajas extra finas para decorar)\n",
            "\n",
            "Method: Cocine los fideos según las instrucciones del paquete, luego refrésquelos con agua fría y viértalos en un tazón grande. Corte el pepino a lo largo por la mitad, retire las semillas con una cucharilla y córtelo en tiras finas con un pelador. Escalde los brotes de soja durante al menos 15 segundos en agua hirviendo y déjelos enfriar. Agregue las tiras a los fideos y luego agregue el pollo , la zanahoria, la menta y los brotes de soja y mezcle. Para preparar el aderezo, mezcle todos los ingredientes y luego viértalo sobre la ensalada y revuelva. Para servir, vierta sobre una fuente y cubra con los cacahuetes, la menta adicional y el chile .\n",
            "\n"
          ]
        }
      ],
      "source": [
        "# Obtener la información de la receta\n",
        "recipe_info = get_recipe_information(soup)\n",
        "\n",
        "# Imprimir los resultados\n",
        "for key, value in recipe_info.items():\n",
        "    print(f\"{key}: {value}\\n\")\n"
      ]
    }
  ],
  "metadata": {
    "colab": {
      "provenance": []
    },
    "kernelspec": {
      "display_name": "Python 3",
      "name": "python3"
    },
    "language_info": {
      "name": "python"
    }
  },
  "nbformat": 4,
  "nbformat_minor": 0
}
