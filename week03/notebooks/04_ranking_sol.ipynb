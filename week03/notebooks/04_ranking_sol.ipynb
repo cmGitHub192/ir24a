{
 "cells": [
  {
   "cell_type": "markdown",
   "source": [
    "# Exploring Ranking Models in Information Retrieval\n",
    "\n",
    "## Objective\n",
    "Understand the practical implementation and differences between the Vector Space Model and the Binary Independence Model in ranking documents relative to a user query."
   ],
   "metadata": {
    "collapsed": false
   },
   "id": "79a53fcc41f692bf"
  },
  {
   "cell_type": "markdown",
   "source": [
    "### Step 1: Data Preprocessing\n",
    "\n",
    "Ensure that the documents are still loaded and preprocessed from the previous task. The data should be clean and ready for advanced querying.\n",
    "Write a function to load and preprocess the text documents from a specified directory. This step involves reading each file, converting the text to lowercase for uniform processing, and storing the results in a dictionary."
   ],
   "metadata": {
    "collapsed": false
   },
   "id": "c965f8d120975418"
  },
  {
   "cell_type": "code",
   "outputs": [],
   "source": [
    "import os\n",
    "import re\n",
    "# Define the path to the directory containing the text files\n",
    "CORPUS_DIR = '../../week01/data'\n",
    "documents = {}\n",
    "for filename in os.listdir(CORPUS_DIR):\n",
    "    if filename.endswith('.txt'):\n",
    "        file_path = os.path.join(CORPUS_DIR, filename)\n",
    "        with open(file_path, 'r', encoding='utf-8') as file:\n",
    "            documents[filename] = re.sub(\"^[\\w| ]\", \"\", file.read().lower(), 0, re.IGNORECASE)\n",
    "            # documents[filename] = file.read().lower()  # Read and convert to lowercase"
   ],
   "metadata": {
    "collapsed": false,
    "ExecuteTime": {
     "end_time": "2024-05-08T16:10:02.174839Z",
     "start_time": "2024-05-08T16:10:01.459822Z"
    }
   },
   "id": "a185456ec7a7c810",
   "execution_count": 48
  },
  {
   "cell_type": "markdown",
   "source": [
    "### Step 2:  Vector Space Model (VSM)\n",
    "\n",
    "Task: Implement a simple Vector Space Model using term frequency.\n",
    "\n",
    "Requirements:\n",
    "* _Document and Query Representation:_ Convert each document and the query into a vector where each dimension corresponds to a term from the corpus. Use simple term frequency for weighting.\n",
    "* _Cosine Similarity Calculation:_ Calculate the cosine similarity between the query vector and each document vector.\n",
    "* _Ranking:_ Rank the documents based on their cosine similarity scores from highest to lowest."
   ],
   "metadata": {
    "collapsed": false
   },
   "id": "f3064ebb2dba4d47"
  },
  {
   "cell_type": "code",
   "execution_count": 47,
   "id": "initial_id",
   "metadata": {
    "collapsed": true,
    "ExecuteTime": {
     "end_time": "2024-05-08T16:09:43.469809Z",
     "start_time": "2024-05-08T16:09:42.204725Z"
    }
   },
   "outputs": [],
   "source": [
    "import collections\n",
    "dictionary = set()\n",
    "for doc in documents:\n",
    "    word_count = collections.Counter(documents[doc].split())\n",
    "    dictionary.update(word_count.keys())"
   ]
  },
  {
   "cell_type": "markdown",
   "source": [
    "### Step 3: Binary Independence Model (BIM)\n",
    "\n",
    "Task: Implement a basic Binary Independence Model to rank documents.\n",
    "\n",
    "Requirements:\n",
    "* _Binary Representation:_ Represent the corpus and the query in binary vectors (1 if the term is present, 0 otherwise).\n",
    "* _Probability Estimation:_ Assume arbitrary probabilities for the presence of each term in relevant and non-relevant documents.\n",
    "* _Relevance Scoring:_ Calculate the relevance score for each document based on the product of probabilities for terms present in the query.\n",
    "* _Ranking:_ Rank the documents based on their relevance scores from highest to lowest."
   ],
   "metadata": {
    "collapsed": false
   },
   "id": "3d15c14078fe119f"
  },
  {
   "cell_type": "code",
   "outputs": [],
   "source": [
    "import os\n",
    "import numpy as np\n",
    "from sklearn.feature_extraction.text import CountVectorizer\n",
    "\n",
    "def read_documents(folder_path):\n",
    "    texts = []\n",
    "    filenames = []\n",
    "    for filename in os.listdir(folder_path):\n",
    "        if filename.endswith('.txt'):\n",
    "            with open(os.path.join(folder_path, filename), 'r', encoding='utf-8') as file:\n",
    "                texts.append(file.read())\n",
    "                filenames.append(filename)\n",
    "    return filenames, texts\n",
    "\n",
    "def binarize_documents(vectorizer, corpus):\n",
    "    X = vectorizer.fit_transform(corpus).toarray()\n",
    "    return (X > 0).astype(int)  # Convert counts to binary\n",
    "\n",
    "def calculate_relevance_scores(binary_docs, binary_query, prob_rel, prob_non_rel):\n",
    "    scores = []\n",
    "    for doc in binary_docs:\n",
    "        score = 1\n",
    "        for term_index, term_presence in enumerate(binary_query):\n",
    "            if term_presence == 1:\n",
    "                score *= prob_rel[term_index] if doc[term_index] == 1 else prob_non_rel[term_index]\n",
    "        scores.append(score)\n",
    "    return scores\n",
    "\n",
    "# Main execution\n",
    "folder_path = '../../week01/data'\n",
    "filenames, corpus = read_documents(folder_path)\n",
    "vectorizer = CountVectorizer(binary=True)\n",
    "binary_docs = binarize_documents(vectorizer, corpus)\n"
   ],
   "metadata": {
    "collapsed": false,
    "ExecuteTime": {
     "end_time": "2024-05-06T23:15:30.863562Z",
     "start_time": "2024-05-06T23:14:55.004433Z"
    }
   },
   "id": "b0392aa935dc471b",
   "execution_count": 1
  },
  {
   "cell_type": "code",
   "outputs": [
    {
     "name": "stdout",
     "output_type": "stream",
     "text": [
      "Wuthering Heights.txt: 0.720964100971606\n",
      "Winnie-the-Pooh.txt: 0.720964100971606\n",
      "he Adventures of Sherlock Holmes.txt: 0.720964100971606\n",
      "Heart of Darkness.txt: 0.720964100971606\n",
      "History of Tom Jones, a Foundling.txt: 0.720964100971606\n",
      "History of Woman Suffrage, Volume III.txt: 0.720964100971606\n",
      "Jane Eyre- An Autobiography.txt: 0.720964100971606\n",
      "John Dewey's logical theory.txt: 0.720964100971606\n",
      "Kentucky in American Letters.txt: 0.720964100971606\n",
      "lato and the Other Companions of Sokrates.txt: 0.720964100971606\n",
      "Leviathan.txt: 0.720964100971606\n",
      "Little Women.txt: 0.720964100971606\n",
      "Little Women; Or, Meg, Jo, Beth, and Amy.txt: 0.720964100971606\n",
      "Magazine of western history.txt: 0.720964100971606\n",
      "Memoirs of a London doll.txt: 0.720964100971606\n",
      "Metamorphosis.txt: 0.720964100971606\n",
      "Middlemarch.txt: 0.720964100971606\n",
      "Moby Dick.txt: 0.720964100971606\n",
      "My Life — Volume 1.txt: 0.720964100971606\n",
      "Narrative of the Life of Frederick Douglass.txt: 0.720964100971606\n",
      "Noli Me Tangere.txt: 0.720964100971606\n",
      "Notes from the Underground.txt: 0.720964100971606\n",
      "Peter Pan.txt: 0.720964100971606\n",
      "pg100.txt: 0.720964100971606\n",
      "pg1342.txt: 0.720964100971606\n",
      "pg145.txt: 0.720964100971606\n",
      "pg1513.txt: 0.720964100971606\n",
      "Grimms' Fairy Tales.txt: 0.720964100971606\n",
      "Great Expectations.txt: 0.720964100971606\n",
      "Frankenstein.txt: 0.720964100971606\n",
      "Biographical Anecdotes of William Hogarth, With a Catalogue of His Works.txt: 0.720964100971606\n",
      "A Doll's House.txt: 0.720964100971606\n",
      "A Modest Proposal.txt: 0.720964100971606\n",
      "A Room with a View.txt: 0.720964100971606\n",
      "A Short History of English Agriculture.txt: 0.720964100971606\n",
      "A Smaller History of Rome.txt: 0.720964100971606\n",
      "A Study in Scarlet.txt: 0.720964100971606\n",
      "A Tale of Two Cities.txt: 0.720964100971606\n",
      "Adventures of Huckleberry Finn.txt: 0.720964100971606\n",
      "Alice's Adventures in Wonderland.txt: 0.720964100971606\n",
      "Ang  Filibusterismo  (Karugtóng ng Noli Me Tangere).txt: 0.720964100971606\n",
      "Anne of Green Gables.txt: 0.720964100971606\n",
      "Calculus Made Easy.txt: 0.720964100971606\n",
      "Fan Fare May 1953.txt: 0.720964100971606\n",
      "Cambridge Papers.txt: 0.720964100971606\n",
      "Childe Harold's Pilgrimage.txt: 0.720964100971606\n",
      "Christopher Columbus and How He Received and Imparted the Spirit of Discovery.txt: 0.720964100971606\n",
      "Chronicles of London Bridge.txt: 0.720964100971606\n",
      "Cranford.txt: 0.720964100971606\n",
      "Crime and Punishment.txt: 0.720964100971606\n",
      "Don Juan.txt: 0.720964100971606\n",
      "Don Quijote.txt: 0.720964100971606\n",
      "Don Quixote.txt: 0.720964100971606\n",
      "Dracula.txt: 0.720964100971606\n",
      "Dubliners.txt: 0.720964100971606\n",
      "pg16389.txt: 0.720964100971606\n",
      "pg2641.txt: 0.720964100971606\n",
      "pg2701.txt: 0.720964100971606\n",
      "The Scarlet Letter.txt: 0.720964100971606\n",
      "The Kama Sutra of Vatsyayana.txt: 0.720964100971606\n",
      "The Metamorphoses of Ovid.txt: 0.720964100971606\n",
      "The modern Prometheus.txt: 0.720964100971606\n",
      "The Modern Regime, Volume 1.txt: 0.720964100971606\n",
      "The Odyssey.txt: 0.720964100971606\n",
      "The Philippines a Century Hence.txt: 0.720964100971606\n",
      "The Picture of Dorian Gray.txt: 0.720964100971606\n",
      "The Pleasures of the Table.txt: 0.720964100971606\n",
      "The Prince.txt: 0.720964100971606\n",
      "The Reign of Greed.txt: 0.720964100971606\n",
      "The Romance of Lust A classic Victorian erotic novel.txt: 0.720964100971606\n",
      "The Souls of Black Folk.txt: 0.720964100971606\n",
      "The Iliad.txt: 0.720964100971606\n",
      "The star-stealers.txt: 0.720964100971606\n",
      "The Strange Case of Dr. Jekyll and Mr. Hyde.txt: 0.720964100971606\n",
      "The Wonderful Wizard of Oz.txt: 0.720964100971606\n",
      "The Works of the Rev.txt: 0.720964100971606\n",
      "The Yellow Wallpaper.txt: 0.720964100971606\n",
      "Thus Spake Zarathustra A Book for All and None.txt: 0.720964100971606\n",
      "Treasure Island.txt: 0.720964100971606\n",
      "Twenty years after.txt: 0.720964100971606\n",
      "Ulysses.txt: 0.720964100971606\n",
      "Walden and On The Duty Of Civil Disobedience.txt: 0.720964100971606\n",
      "War and Peace.txt: 0.720964100971606\n",
      "The Importance of Being Earnest- A Trivial Comedy for Serious People.txt: 0.720964100971606\n",
      "The Hound of the Baskervilles.txt: 0.720964100971606\n",
      "pg37106.txt: 0.720964100971606\n",
      "Standard Selections.txt: 0.720964100971606\n",
      "pg42538.txt: 0.720964100971606\n",
      "pg45368.txt: 0.720964100971606\n",
      "pg47948.txt: 0.720964100971606\n",
      "pg67979.txt: 0.720964100971606\n",
      "pg69093.txt: 0.720964100971606\n",
      "pg84.txt: 0.720964100971606\n",
      "Pride and Prejudice.txt: 0.720964100971606\n",
      "Pygmalion.txt: 0.720964100971606\n",
      "Roget's Thesaurus of English Words and Phrases.txt: 0.720964100971606\n",
      "Romeo and Juliet.txt: 0.720964100971606\n",
      "Second Treatise of Government.txt: 0.720964100971606\n",
      "The Adventures of Ferdinand Count Fathom — Complete.txt: 0.720964100971606\n",
      "The History of Woman Suffrage.txt: 0.720964100971606\n",
      "The Adventures of Roderick Random.txt: 0.720964100971606\n",
      "The Adventures of Tom Sawyer.txt: 0.720964100971606\n",
      "The Blue Castle- a novel.txt: 0.720964100971606\n",
      "The Brothers Karamazov.txt: 0.720964100971606\n",
      "The Complete Works of William Shakespeare.txt: 0.720964100971606\n",
      "The Count of Monte Cristo.txt: 0.720964100971606\n",
      "The divine comedy.txt: 0.720964100971606\n",
      "The Enchanted April.txt: 0.720964100971606\n",
      "The Expedition of Humphry Clinker.txt: 0.720964100971606\n",
      "The First Duke and Duchess of Newcastle-upon-Tyne.txt: 0.720964100971606\n",
      "The Great Gatsby.txt: 0.720964100971606\n",
      "A Christmas Carol in Prose Being a Ghost Story of Christmas.txt: 0.720964100971606\n"
     ]
    }
   ],
   "source": [
    "# Example query\n",
    "query = input(\"Enter your query: \")\n",
    "binary_query = vectorizer.transform([query]).toarray()[0]\n",
    "\n",
    "# Assume probabilities\n",
    "prob_rel = np.random.uniform(0.7, 0.9, len(vectorizer.get_feature_names_out()))\n",
    "prob_non_rel = np.random.uniform(0.1, 0.3, len(vectorizer.get_feature_names_out()))\n",
    "\n",
    "scores = calculate_relevance_scores(binary_docs, binary_query, prob_rel, prob_non_rel)\n",
    "sorted_indices = np.argsort(scores)[::-1]\n",
    "\n",
    "# Output ranked documents\n",
    "for index in sorted_indices:\n",
    "    print(f\"{filenames[index]}: {scores[index]}\")"
   ],
   "metadata": {
    "collapsed": false,
    "ExecuteTime": {
     "end_time": "2024-05-06T23:16:42.221518Z",
     "start_time": "2024-05-06T23:16:35.564324Z"
    }
   },
   "id": "71d8d8f1958e55b8",
   "execution_count": 4
  },
  {
   "cell_type": "code",
   "outputs": [],
   "source": [],
   "metadata": {
    "collapsed": false
   },
   "id": "80497e8fbc067573"
  }
 ],
 "metadata": {
  "kernelspec": {
   "display_name": "Python 3",
   "language": "python",
   "name": "python3"
  },
  "language_info": {
   "codemirror_mode": {
    "name": "ipython",
    "version": 2
   },
   "file_extension": ".py",
   "mimetype": "text/x-python",
   "name": "python",
   "nbconvert_exporter": "python",
   "pygments_lexer": "ipython2",
   "version": "2.7.6"
  }
 },
 "nbformat": 4,
 "nbformat_minor": 5
}
